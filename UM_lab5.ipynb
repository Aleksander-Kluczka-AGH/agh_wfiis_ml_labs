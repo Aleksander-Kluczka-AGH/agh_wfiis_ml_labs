{
 "cells": [
  {
   "cell_type": "code",
   "execution_count": 1,
   "metadata": {},
   "outputs": [
    {
     "ename": "ModuleNotFoundError",
     "evalue": "No module named 'torch'",
     "output_type": "error",
     "traceback": [
      "\u001b[1;31m---------------------------------------------------------------------------\u001b[0m",
      "\u001b[1;31mModuleNotFoundError\u001b[0m                       Traceback (most recent call last)",
      "Cell \u001b[1;32mIn[1], line 1\u001b[0m\n\u001b[1;32m----> 1\u001b[0m \u001b[39mimport\u001b[39;00m \u001b[39mtorch\u001b[39;00m\n\u001b[0;32m      3\u001b[0m data \u001b[39m=\u001b[39m [\u001b[39m1\u001b[39m, \u001b[39m2\u001b[39m, \u001b[39m3\u001b[39m]\n\u001b[0;32m      4\u001b[0m x_data \u001b[39m=\u001b[39m torch\u001b[39m.\u001b[39mtensor(data)\n",
      "\u001b[1;31mModuleNotFoundError\u001b[0m: No module named 'torch'"
     ]
    }
   ],
   "source": [
    "import torch\n",
    "\n",
    "data = [1, 2, 3]\n",
    "x_data = torch.tensor(data)\n",
    "\n",
    "print(data)\n",
    "print(x_data)"
   ]
  },
  {
   "cell_type": "code",
   "execution_count": 2,
   "metadata": {},
   "outputs": [
    {
     "name": "stdout",
     "output_type": "stream",
     "text": [
      "tensor([[1., 0.],\n",
      "        [2., 3.]])\n",
      "\n",
      "\n",
      "[[1. 0.]\n",
      " [2. 3.]]\n",
      "tensor([[1., 0.],\n",
      "        [2., 3.]])\n"
     ]
    }
   ],
   "source": [
    "import torch\n",
    "\n",
    "t1 = torch.tensor([[1.0, 0], [2, 3]])\n",
    "\n",
    "print(t1)\n",
    "\n",
    "print(\"\\n\")\n",
    "print(t1.numpy())\n",
    "print(torch.tensor(t1.numpy()))\n"
   ]
  },
  {
   "cell_type": "code",
   "execution_count": 4,
   "metadata": {},
   "outputs": [],
   "source": [
    "shape = (3, 5)\n",
    "\n",
    "rand_tensor = torch.rand(3, 5)\n",
    "agg = rand_tensor.sum()\n",
    "\n",
    "avg = rand_tensor.mean()"
   ]
  },
  {
   "cell_type": "code",
   "execution_count": 14,
   "metadata": {},
   "outputs": [
    {
     "name": "stdout",
     "output_type": "stream",
     "text": [
      "z1_sum=tensor(55.)\n",
      "z1_avg=tensor(5.5000)\n",
      "tensor([0.0000, 1.0000, 1.5850, 2.0000, 2.3219, 2.5850, 2.8074, 3.0000, 3.1699,\n",
      "        3.3219])\n",
      "z1_min=tensor(1.)\n",
      "z1_max=tensor(10.)\n",
      "z1_std=tensor(3.0277)\n",
      "z1_bern=tensor([0., 1., 0., 0., 0., 0., 0., 0., 0., 0.])\n"
     ]
    }
   ],
   "source": [
    "# zadanie 0\n",
    "z1 = torch.tensor([1.0, 2.0, 3.0, 4.0, 5.0, 6.0, 7.0, 8.0, 9.0, 10.0])\n",
    "\n",
    "z1_sum = z1.sum()  # aggregation\n",
    "z1_avg = z1.mean()  # average\n",
    "print(f\"{z1_sum=}\\n{z1_avg=}\")\n",
    "\n",
    "z1_log2 = z1.log2()\n",
    "print(f\"{z1_log2}\")\n",
    "\n",
    "z1_min = z1.min()\n",
    "print(f\"{z1_min=}\")\n",
    "\n",
    "z1_max = z1.max()\n",
    "print(f\"{z1_max=}\")\n",
    "\n",
    "z1_std = z1.std()\n",
    "print(f\"{z1_std=}\")\n",
    "\n",
    "z1_bern = z1.bernoulli(0.3)\n",
    "print(f\"{z1_bern=}\")"
   ]
  },
  {
   "cell_type": "code",
   "execution_count": 16,
   "metadata": {},
   "outputs": [
    {
     "name": "stdout",
     "output_type": "stream",
     "text": [
      "z1=tensor([  1.,   4.,   9.,  16.,  25.,  36.,  49.,  64.,  81., 100.])\n"
     ]
    }
   ],
   "source": [
    "z1 = torch.tensor([1.0, 2.0, 3.0, 4.0, 5.0, 6.0, 7.0, 8.0, 9.0, 10.0])\n",
    "\n",
    "# underscore overwrites original tensor\n",
    "z1.pow_(2)\n",
    "print(f\"{z1=}\")\n"
   ]
  },
  {
   "cell_type": "code",
   "execution_count": 20,
   "metadata": {},
   "outputs": [
    {
     "name": "stdout",
     "output_type": "stream",
     "text": [
      "dx/dx = None\n",
      "dy/dy = None\n",
      "f=tensor([2002.], grad_fn=<AddBackward0>)\n",
      "df/dx = tensor([2.])\n",
      "df/dy = tensor([1001.])\n"
     ]
    }
   ],
   "source": [
    "# calculating f(x, y) = x*y + y at point (1000, 2)\n",
    "x = torch.tensor([1000.0], requires_grad=True)\n",
    "y = torch.tensor([2.0], requires_grad=True)\n",
    "\n",
    "print(f\"dx/dx = {x.grad}\")\n",
    "print(f\"dy/dy = {y.grad}\")\n",
    "\n",
    "f = x @ y + y\n",
    "\n",
    "f.backward()  # calculate a gradient of this tensor\n",
    "print(f\"{f=}\")\n",
    "print(f\"df/dx = {x.grad}\")\n",
    "print(f\"df/dy = {y.grad}\")"
   ]
  },
  {
   "cell_type": "code",
   "execution_count": 48,
   "metadata": {},
   "outputs": [
    {
     "name": "stdout",
     "output_type": "stream",
     "text": [
      "df/dx = 162.0\n",
      "df/dy = 12.0\n",
      "df/dz = 108.0\n",
      "df2/dx = 162.0\n",
      "df2/dy = 12.0\n",
      "df2/dz = 108.0\n",
      "df3/dx = 0.0\n",
      "df3/dy = 6.0\n",
      "df3/dz = 72.0\n"
     ]
    }
   ],
   "source": [
    "# f(x, y, z) = z^4 * x^2 + y^3\n",
    "# x = 1, y = 2, z = 3\n",
    "\n",
    "x = torch.tensor([1.0], requires_grad=True)\n",
    "y = torch.tensor([2.0], requires_grad=True)\n",
    "z = torch.tensor([3.0], requires_grad=True)\n",
    "\n",
    "f = z**4 @ x**2 + y**3\n",
    "\n",
    "df_dx = torch.autograd.grad(f, x, create_graph=True)\n",
    "df_dy = torch.autograd.grad(f, y, create_graph=True)\n",
    "df_dz = torch.autograd.grad(f, z, create_graph=True)\n",
    "print(f\"df/dx = {df_dx[0].item()}\")\n",
    "print(f\"df/dy = {df_dy[0].item()}\")\n",
    "print(f\"df/dz = {df_dz[0].item()}\")\n",
    "\n",
    "df2_dx = torch.autograd.grad(df_dx, x, create_graph=True)\n",
    "df2_dy = torch.autograd.grad(df_dy, y, create_graph=True)\n",
    "df2_dz = torch.autograd.grad(df_dz, z, create_graph=True)\n",
    "print(f\"df2/dx = {df2_dx[0].item()}\")\n",
    "print(f\"df2/dy = {df2_dy[0].item()}\")\n",
    "print(f\"df2/dz = {df2_dz[0].item()}\")\n",
    "\n",
    "df3_dx = torch.autograd.grad(df2_dx, x, create_graph=True)\n",
    "df3_dy = torch.autograd.grad(df2_dy, y, create_graph=True)\n",
    "df3_dz = torch.autograd.grad(df2_dz, z, create_graph=True)\n",
    "print(f\"df3/dx = {df3_dx[0].item()}\")\n",
    "print(f\"df3/dy = {df3_dy[0].item()}\")\n",
    "print(f\"df3/dz = {df3_dz[0].item()}\")\n"
   ]
  },
  {
   "cell_type": "code",
   "execution_count": 52,
   "metadata": {},
   "outputs": [
    {
     "data": {
      "text/plain": [
       "(-3.0, 2.0)"
      ]
     },
     "execution_count": 52,
     "metadata": {},
     "output_type": "execute_result"
    },
    {
     "data": {
      "image/png": "[encoded data removed]",
      "text/plain": [
       "<Figure size 640x480 with 1 Axes>"
      ]
     },
     "metadata": {},
     "output_type": "display_data"
    }
   ],
   "source": [
    "# zadanie 1\n",
    "# linear regression with tensors and manual calculation of cost function\n",
    "# y = bx - a\n",
    "\n",
    "# y = 2x - 1  # do uczenia (?)\n",
    "\n",
    "# dane uczace\n",
    "import torch\n",
    "import numpy as np\n",
    "import matplotlib.pyplot as plt\n",
    "\n",
    "\n",
    "def lin_f(X, a):\n",
    "    return a[1] * X - a[0]\n",
    "\n",
    "\n",
    "X = torch.arange(0, 3, 0.1)\n",
    "f = lin_f(X, [2, 1])\n",
    "\n",
    "fig = plt.figure()\n",
    "ax = plt.axes()\n",
    "ax.plot(X, f.detach().numpy(), \".\", color=\"blue\")\n",
    "ax.set_xlim([0, 3])\n",
    "ax.set_ylim([-3, 2])"
   ]
  },
  {
   "cell_type": "code",
   "execution_count": 100,
   "metadata": {},
   "outputs": [
    {
     "name": "stdout",
     "output_type": "stream",
     "text": [
      "tensor([2.0000, 1.0000], requires_grad=True)\n"
     ]
    },
    {
     "data": {
      "image/png": "[encoded data removed]",
      "text/plain": [
       "<Figure size 640x480 with 1 Axes>"
      ]
     },
     "metadata": {},
     "output_type": "display_data"
    },
    {
     "data": {
      "image/png": "[encoded data removed]",
      "text/plain": [
       "<Figure size 640x480 with 1 Axes>"
      ]
     },
     "metadata": {},
     "output_type": "display_data"
    }
   ],
   "source": [
    "import torch\n",
    "import numpy as np\n",
    "import matplotlib.pyplot as plt\n",
    "from IPython.display import display, clear_output\n",
    "\n",
    "\n",
    "def lin_f(X, a):\n",
    "    return a[1] * X - a[0]\n",
    "\n",
    "\n",
    "def mse(o1, o2):\n",
    "    dif = o1 - o2\n",
    "    return (\n",
    "        torch.sum(dif * dif) / dif.numel() / 2\n",
    "    )  # numel() returns the total number of elements in the input tensor\n",
    "\n",
    "\n",
    "X = torch.arange(0, 3, 0.1)\n",
    "f = lin_f(X, [2, 1])\n",
    "a = torch.randn(2, requires_grad=True)\n",
    "N = 1000\n",
    "\n",
    "loss_save = np.zeros(N)\n",
    "\n",
    "for i in range(N):\n",
    "    # if i<10: print(a)\n",
    "    y_pr = lin_f(X, a)\n",
    "    loss = mse(y_pr, f)\n",
    "    loss.backward()\n",
    "    loss_save[i] = loss\n",
    "    with torch.no_grad():\n",
    "        a -= a.grad * 0.5\n",
    "        a.grad.zero_()\n",
    "\n",
    "print(a)\n",
    "\n",
    "fig = plt.figure()\n",
    "ax = plt.axes()\n",
    "ax.plot(X, y_pr.detach().numpy(), alpha=0.4, color=\"red\")\n",
    "ax.plot(X, f.detach().numpy(), \".\", color=\"blue\")\n",
    "ax.set_xlim([0, 3])\n",
    "ax.set_ylim([-3, 2])\n",
    "\n",
    "fig2 = plt.figure()\n",
    "ax = plt.axes()\n",
    "ax.plot(np.linspace(1, N, N), loss_save)\n",
    "# ax.set_yscale('log')\n",
    "plt.show()"
   ]
  },
  {
   "cell_type": "code",
   "execution_count": 121,
   "metadata": {},
   "outputs": [
    {
     "name": "stdout",
     "output_type": "stream",
     "text": [
      "tensor([nan, nan], requires_grad=True)\n"
     ]
    },
    {
     "data": {
      "image/png": "[encoded data removed]",
      "text/plain": [
       "<Figure size 640x480 with 1 Axes>"
      ]
     },
     "metadata": {},
     "output_type": "display_data"
    }
   ],
   "source": [
    "X = torch.tensor([1.0, 2, 3, 4, 5, 6, 7, 8])\n",
    "f = torch.tensor([1.2, 2.8, 5.3, 6.4, 7.5, 8.8, 10, 11.2])\n",
    "X = X.reshape(8, 1)\n",
    "f = f.reshape(8, 1)\n",
    "\n",
    "a = torch.randn(2, requires_grad=True)\n",
    "N = 1000\n",
    "\n",
    "loss_save = np.zeros(N)\n",
    "\n",
    "for i in range(N):\n",
    "    # if i<10: print(a)\n",
    "    y_pr = lin_f(X, a)\n",
    "    loss = mse(y_pr, f)\n",
    "    loss.backward()\n",
    "    loss_save[i] = loss\n",
    "    with torch.no_grad():\n",
    "        a -= a.grad * 0.5\n",
    "        a.grad.zero_()\n",
    "\n",
    "print(a)\n",
    "\n",
    "fig = plt.figure()\n",
    "ax = plt.axes()\n",
    "ax.plot(X, f.detach().numpy(), \".\", color=\"blue\")\n",
    "ax.plot(X, y_pr.detach().numpy(), alpha=0.4, color=\"red\")\n",
    "# ax.set_xlim([0, 3])\n",
    "# ax.set_ylim([-3, 2])\n",
    "plt.show()"
   ]
  },
  {
   "cell_type": "code",
   "execution_count": 127,
   "metadata": {},
   "outputs": [
    {
     "ename": "AttributeError",
     "evalue": "'tuple' object has no attribute 'size'",
     "output_type": "error",
     "traceback": [
      "\u001b[1;31m---------------------------------------------------------------------------\u001b[0m",
      "\u001b[1;31mAttributeError\u001b[0m                            Traceback (most recent call last)",
      "Cell \u001b[1;32mIn[127], line 29\u001b[0m\n\u001b[0;32m     26\u001b[0m preds \u001b[39m=\u001b[39m model(X)\n\u001b[0;32m     28\u001b[0m loss_fn \u001b[39m=\u001b[39m torch\u001b[39m.\u001b[39mnn\u001b[39m.\u001b[39mfunctional\u001b[39m.\u001b[39mmse_loss\n\u001b[1;32m---> 29\u001b[0m loss \u001b[39m=\u001b[39m loss_fn(model(X), f)\n\u001b[0;32m     30\u001b[0m loss_history \u001b[39m=\u001b[39m []\n\u001b[0;32m     32\u001b[0m opt \u001b[39m=\u001b[39m torch\u001b[39m.\u001b[39moptim\u001b[39m.\u001b[39mSGD(model\u001b[39m.\u001b[39mparameters(), lr\u001b[39m=\u001b[39m\u001b[39m1e-5\u001b[39m)\n",
      "File \u001b[1;32m~\\AppData\\Local\\Packages\\PythonSoftwareFoundation.Python.3.11_qbz5n2kfra8p0\\LocalCache\\local-packages\\Python311\\site-packages\\torch\\nn\\functional.py:3284\u001b[0m, in \u001b[0;36mmse_loss\u001b[1;34m(input, target, size_average, reduce, reduction)\u001b[0m\n\u001b[0;32m   3280\u001b[0m \u001b[39mif\u001b[39;00m has_torch_function_variadic(\u001b[39minput\u001b[39m, target):\n\u001b[0;32m   3281\u001b[0m     \u001b[39mreturn\u001b[39;00m handle_torch_function(\n\u001b[0;32m   3282\u001b[0m         mse_loss, (\u001b[39minput\u001b[39m, target), \u001b[39minput\u001b[39m, target, size_average\u001b[39m=\u001b[39msize_average, reduce\u001b[39m=\u001b[39mreduce, reduction\u001b[39m=\u001b[39mreduction\n\u001b[0;32m   3283\u001b[0m     )\n\u001b[1;32m-> 3284\u001b[0m \u001b[39mif\u001b[39;00m \u001b[39mnot\u001b[39;00m (target\u001b[39m.\u001b[39msize() \u001b[39m==\u001b[39m \u001b[39minput\u001b[39;49m\u001b[39m.\u001b[39;49msize()):\n\u001b[0;32m   3285\u001b[0m     warnings\u001b[39m.\u001b[39mwarn(\n\u001b[0;32m   3286\u001b[0m         \u001b[39m\"\u001b[39m\u001b[39mUsing a target size (\u001b[39m\u001b[39m{}\u001b[39;00m\u001b[39m) that is different to the input size (\u001b[39m\u001b[39m{}\u001b[39;00m\u001b[39m). \u001b[39m\u001b[39m\"\u001b[39m\n\u001b[0;32m   3287\u001b[0m         \u001b[39m\"\u001b[39m\u001b[39mThis will likely lead to incorrect results due to broadcasting. \u001b[39m\u001b[39m\"\u001b[39m\n\u001b[0;32m   3288\u001b[0m         \u001b[39m\"\u001b[39m\u001b[39mPlease ensure they have the same size.\u001b[39m\u001b[39m\"\u001b[39m\u001b[39m.\u001b[39mformat(target\u001b[39m.\u001b[39msize(), \u001b[39minput\u001b[39m\u001b[39m.\u001b[39msize()),\n\u001b[0;32m   3289\u001b[0m         stacklevel\u001b[39m=\u001b[39m\u001b[39m2\u001b[39m,\n\u001b[0;32m   3290\u001b[0m     )\n\u001b[0;32m   3291\u001b[0m \u001b[39mif\u001b[39;00m size_average \u001b[39mis\u001b[39;00m \u001b[39mnot\u001b[39;00m \u001b[39mNone\u001b[39;00m \u001b[39mor\u001b[39;00m reduce \u001b[39mis\u001b[39;00m \u001b[39mnot\u001b[39;00m \u001b[39mNone\u001b[39;00m:\n",
      "\u001b[1;31mAttributeError\u001b[0m: 'tuple' object has no attribute 'size'"
     ]
    }
   ],
   "source": [
    "# train_data = torch.utils.data.TensorDataset(X, f)\n",
    "\n",
    "# batch_size = 1\n",
    "# train_dl = torch.utils.data.DataLoader(train_data, batch_size, shuffle=True)\n",
    "# model = torch.nn.Linear(1, 1)\n",
    "# torch.nn.functional.mse_loss\n",
    "# torch.optim.SGD(model.parameters(), lr=1e-5)\n",
    "\n",
    "###\n",
    "\n",
    "import numpy as np\n",
    "import matplotlib.pyplot as plt\n",
    "from IPython.display import display, clear_output\n",
    "\n",
    "X = torch.tensor([1.0, 2, 3, 4, 5, 6, 7, 8])\n",
    "f = torch.tensor([1.2, 2.8, 5.3, 6.4, 7.5, 8.8, 10, 11.2])  # to co na osi y, czyli f=y\n",
    "X = X.reshape(8, 1)  # we need matrix\n",
    "f = f.reshape(8, 1)\n",
    "\n",
    "train_data = torch.utils.data.TensorDataset(X, f)\n",
    "batch_size = 1\n",
    "train_dl = torch.utils.data.DataLoader(train_data, batch_size, shuffle=True)\n",
    "\n",
    "model = torch.nn.Linear(1, 1)\n",
    "preds = model(X)\n",
    "\n",
    "loss_fn = torch.nn.functional.mse_loss\n",
    "loss = loss_fn(model(X), f)\n",
    "loss_history = []\n",
    "\n",
    "opt = torch.optim.SGD(model.parameters(), lr=1e-5)\n",
    "\n",
    "\n",
    "def fit(num_epochs, model, loss_fn, opt, train_dl):\n",
    "    for epoch in range(num_epochs):\n",
    "        for x_pull, y_pull in train_dl:\n",
    "            pred = model(x_pull)  # predict\n",
    "            loss = loss_fn(pred, y_pull)  # calculate loss\n",
    "            loss.backward()  # calculate gradient\n",
    "            opt.step()  # optimise coefficients\n",
    "            opt.zero_grad()  # reset grad\n",
    "\n",
    "        loss_history.append(loss.item())\n",
    "\n",
    "\n",
    "N = 1000\n",
    "\n",
    "fit(N, model, loss_fn, opt, train_dl)\n",
    "preds = model(X)  # last iteration\n",
    "print(X)\n",
    "print(f)\n",
    "\n",
    "fig = plt.figure()\n",
    "ax = plt.axes()\n",
    "ax.plot(np.arange(0, N, 1), loss_history)\n",
    "# ax.set_yscale('log')\n",
    "\n",
    "fig2 = plt.figure()\n",
    "ax = plt.axes()\n",
    "ax.plot(X, preds.detach().numpy(), alpha=0.4, color=\"red\")\n",
    "ax.plot(X, f.detach().numpy(), \".\", color=\"blue\")\n",
    "plt.show()\n"
   ]
  },
  {
   "cell_type": "code",
   "execution_count": 117,
   "metadata": {},
   "outputs": [
    {
     "name": "stdout",
     "output_type": "stream",
     "text": [
      "a[0].item()=0.5851195454597473\n",
      "b[0].item()=-0.1980859488248825\n",
      "predicted=tensor([nan, nan, nan, nan, nan, nan, nan, nan, nan, nan, nan, nan, nan, nan, nan, nan, nan, nan, nan, nan, nan, nan, nan, nan,\n",
      "        nan, nan, nan, nan, nan, nan])\n"
     ]
    },
    {
     "data": {
      "text/plain": [
       "(-3.0, 2.0)"
      ]
     },
     "execution_count": 117,
     "metadata": {},
     "output_type": "execute_result"
    },
    {
     "data": {
      "image/png": "[encoded data removed]",
      "text/plain": [
       "<Figure size 640x480 with 1 Axes>"
      ]
     },
     "metadata": {},
     "output_type": "display_data"
    }
   ],
   "source": [
    "# moje bladzenie:\n",
    "a = torch.randn(1)\n",
    "b = torch.randn(1)\n",
    "N = 1000\n",
    "\n",
    "print(f\"{a[0].item()=}\")\n",
    "print(f\"{b[0].item()=}\")\n",
    "\n",
    "f_train = lin_f(X, [b, a])\n",
    "\n",
    "\n",
    "class LinearRegressionModel(torch.nn.Module):\n",
    "    def __init__(self):\n",
    "        super(LinearRegressionModel, self).__init__()\n",
    "        self.linear = torch.nn.Linear(1, 1)  # One in and one out\n",
    "\n",
    "    def forward(self, x):\n",
    "        y_pred = self.linear(x)\n",
    "        return y_pred\n",
    "\n",
    "\n",
    "our_model = LinearRegressionModel()\n",
    "\n",
    "criterion = torch.nn.MSELoss(size_average=False)\n",
    "optimizer = torch.optim.SGD(our_model.parameters(), lr=0.01)\n",
    "\n",
    "for epoch in range(N):\n",
    "    # Forward pass: Compute predicted y by passing\n",
    "    # x to the model\n",
    "    pred_y = our_model(X.reshape(30, 1))\n",
    "\n",
    "    # Compute and print loss\n",
    "    loss = criterion(pred_y, f_train)\n",
    "\n",
    "    # Zero gradients, perform a backward pass and update the weights.\n",
    "    optimizer.zero_grad()\n",
    "    loss.backward()\n",
    "    optimizer.step()\n",
    "    # print(\"epoch {}, loss {}\".format(epoch, loss.item()))\n",
    "\n",
    "predicted = [our_model(torch.tensor([1.0])) for _ in X]\n",
    "predicted = torch.tensor(predicted)\n",
    "\n",
    "print(f\"{predicted=}\")\n",
    "\n",
    "fig = plt.figure()\n",
    "ax = plt.axes()\n",
    "ax.plot(X, predicted.detach().numpy(), alpha=0.4, color=\"red\")\n",
    "ax.plot(X, f.detach().numpy(), \".\", color=\"blue\")\n",
    "ax.set_xlim([0, 3])\n",
    "ax.set_ylim([-3, 2])\n"
   ]
  }
 ],
 "metadata": {
  "kernelspec": {
   "display_name": "Python 3",
   "language": "python",
   "name": "python3"
  },
  "language_info": {
   "codemirror_mode": {
    "name": "ipython",
    "version": 3
   },
   "file_extension": ".py",
   "mimetype": "text/x-python",
   "name": "python",
   "nbconvert_exporter": "python",
   "pygments_lexer": "ipython3",
   "version": "3.11.3"
  },
  "orig_nbformat": 4
 },
 "nbformat": 4,
 "nbformat_minor": 2
}
